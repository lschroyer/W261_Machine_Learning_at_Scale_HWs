{
 "cells": [
  {
   "cell_type": "markdown",
   "metadata": {},
   "source": [
    "# HW1 - Intro to the Map Reduce Paradigm  \n",
    "__ `MIDS w261: Machine Learning at Scale | UC Berkeley School of Information | Spring 2018`__\n",
    "\n",
    "Welcome to Machine Learning at Scale! This first homework assignment introduces one of the core strategies in distributed processing: divide and conquer. We'll use the simplest of tasks, word counting, to illustrate the difference between a scalable and non-scalable algorithm. You will be working with the text of _Alice in Wonderland_ to put these ideas into practice using Python and Bash scripting. By the end of this week you should be able to:\n",
    "* ... __describe__ the Bias-Variance tradeoff as it applies to Machine Learning.\n",
    "* ... __explain__ why we consider word counting to be an \"Embarrassingly Parallel\" task.\n",
    "* ... __estimate__ the runtime of embarrassingly parallel tasks using \"back of the envelope\" calculations.\n",
    "* ... __implement__ a Map Reduce algorithm using the Command Line.\n",
    "* ... __set-up__ a Docker container and know why we use them for this course.\n",
    "\n",
    "You will also  become familiar (if you aren't already) with `defaultdict`, `re` and `time` in Python, linux piping and sorting, and Jupyter magic commands `%%writefile` and `%%timeit`. __Please refer to the `README` for detailed submission instructions__.\n",
    "\n",
    "__IMPORTANT:__ If you're not familiar with linux, you should read the following tutorial reagrding **piping** and **redirecting**: https://ryanstutorials.net/linuxtutorial/piping.php You will need to understand the differences to answer some of the later questions.\n"
   ]
  },
  {
   "cell_type": "markdown",
   "metadata": {},
   "source": [
    "# Notebook Set-Up\n",
    "Before starting your homework run the following cells to confirm your setup."
   ]
  },
  {
   "cell_type": "code",
   "execution_count": 1,
   "metadata": {},
   "outputs": [
    {
     "data": {
      "text/plain": [
       "sys.version_info(major=3, minor=8, micro=5, releaselevel='final', serial=0)"
      ]
     },
     "execution_count": 1,
     "metadata": {},
     "output_type": "execute_result"
    }
   ],
   "source": [
    "# confirm you are running Python 3\n",
    "import sys\n",
    "sys.version_info"
   ]
  },
  {
   "cell_type": "code",
   "execution_count": 2,
   "metadata": {},
   "outputs": [],
   "source": [
    "# imports\n",
    "import re\n",
    "import sys"
   ]
  },
  {
   "cell_type": "markdown",
   "metadata": {},
   "source": [
    "Create a folder for any data you download locally."
   ]
  },
  {
   "cell_type": "code",
   "execution_count": 3,
   "metadata": {},
   "outputs": [
    {
     "name": "stdout",
     "output_type": "stream",
     "text": [
      "mkdir: data: File exists\n"
     ]
    }
   ],
   "source": [
    "!mkdir data\n",
    "# NOTE: the contents of this directory will be ignored by git."
   ]
  },
  {
   "cell_type": "markdown",
   "metadata": {},
   "source": [
    "# Question 1: Introductions\n",
    "\n",
    "`The Caterpillar and Alice looked at each other for some time in silence: at last the Caterpillar took the hookah out of its mouth, and addressed her in a languid, sleepy voice. \"Who are you?\" said the Caterpillar.`   \n",
    "<div style=\"text-align: right\"> -- Lewis Carroll, _Alice's Adventures in Wonderland_, Chapter 4 </div>\n",
    "\n",
    "\n",
    "__Tell us about yourself! Briefly describe where you live, how far along you are in MIDS, what other classes you are taking and what you want to get out of w261.__"
   ]
  },
  {
   "cell_type": "markdown",
   "metadata": {},
   "source": [
    "> Hello! I normally live in the San Francisco bay area and went to undergrad also at Cal (go bears). During the remote work life of 2020-2021 however I've been moving around quite a bit to visit different areas, including Hawaii, Utah, and New York. I just finished my first year of MIDS and expect to graduate summer 2022. I find data engineering to be really fascinating and look forward to learning how I can use the plumbing that is data engineering with the 'sexy' algorithms of machine learning. At work I have seen first hand how having parallel program could improve my model runtimes by orders of magnitude so hopefully after this course I can implement some of those solutions! W261 is the only course I am taking this semester. "
   ]
  },
  {
   "cell_type": "markdown",
   "metadata": {},
   "source": [
    "# Question 2: Bias - Variance\n",
    "__In 1-2 sentences explain the bias-variance trade off. Describe what it means to \"decompose\" sources of error. How is this used in machine learning?__ Please use mathematical equation(s) to support your explanation. (Use `$` signs to take advantage of $\\LaTeX$ formatting, eg. `$f(x)$` will look like: $f(x)$). Please also cite any sources that informed your answer."
   ]
  },
  {
   "cell_type": "markdown",
   "metadata": {},
   "source": [
    "> The bias-variance trade off is a concept in machine learning and statistics at large where there is an theoretical minimum error term that can not be reduced further by increasing your model complexity, such as by increasing the polynomial term in a regression fit. The tradeoff can be summarized as follows: an increase in your model complexity will reduce the model variance (i.e. the error from sensitivity to small fluctuations in the training set), but will increase the model bias (i.e. bias error is an error from erroneous assumptions in the learning algorithm). The error term (i.e. the difference between a model's predicted value and the actual value) can be split into three terms: 1. the model's bias term, 2. the model's variance term, and 3. the minimum error term that occurs when the bias-variance tradeoff is optimized. In supervised machine learning, the bias–variance tradeoff is the property of a model that the variance of the parameter estimates across samples can be reduced by increasing the bias in the estimated parameters. \n",
    "\n"
   ]
  },
  {
   "cell_type": "markdown",
   "metadata": {},
   "source": [
    "# Question 3: Tokenizing\n",
    "A number of our assignments this term will involve extracting information from text. A common preprocessing step when working with raw files is to 'tokenize' (i.e. extract words from) the text. Within the field of Natural Language Processing a lot of thought goes into what specific tokenizing makes most sense for a given task. For example, you might choose to remove punctuation or to consider punctuation symbols  'tokens' in their own right. __In this question you'll use the Python `re` module to create a tokenizer to use when you perform WordCount on the _Alice In Wonderland_ text.__\n",
    "\n",
    "### Q3 Tasks:\n",
    "\n",
    "* __a) short response:__ In the Naive Bayes algorithm (which we'll implement next week), we'll estimate the _likelihood_ of a word by counting the number of times it appears and dividing by the size of the vocabulary (total number of unique words). Using the text: *\"Alice had an adventure that took alice to wonderland\"*, give a concrete example of how two different tokenizers could cause us to get two different results on this calculation. [`HINT`: _you should not need to read up on Naive Bayes to answer this question_]  \n",
    "  \n",
    "\n",
    "* __b) short response:__ When tokenizing in this assignment we'll remove punctuation and discard numerical digits by making everything lowercase and then capturing only consecutive letters a to z. Suppose __`tokenize(x)`__ is a Python function that performs the desired tokenization. What would __`tokenize(\"By-the-bye, what became of Alice's 12 hats?!\")`__ output? Type the answer in the space provided below.\n",
    "\n",
    "\n",
    "* __c) code:__  Fill in the regular expression pattern in the cell labeled `part c` so that the subsequent call to `re.findall(RE_PATTERN, ...)` returns the tokenization described above. [`HINT`: _we've taken care of the lowercase part for you. If regex is new to you, check out the [`re`  documentation](https://docs.python.org/3/library/re.html) or [this PyMOTW tutorial](https://pymotw.com/2/re/)._]"
   ]
  },
  {
   "cell_type": "markdown",
   "metadata": {},
   "source": [
    "### Q3 Student Answers:\n",
    "> __a)__ if you used the word 'alice ' as a tockenizer, your two seperated texts would be 'had an adventure thate took ' and 'to wonderland'. Both of these 'words' would appear only once and would not particularly inform the Naive Bayes classifier well. Meanwhile using a ' ' as a tockenizer would result in 'alice', 'had', 'an'... 'wonderland' where some words counted twice and might better inform the classfier (this all assumes everything is converted to lowercase).\n",
    "\n",
    "> __b)__ ['by', 'the', 'bye', 'what', 'became', 'of', 'alice', 's', 'hats']    "
   ]
  },
  {
   "cell_type": "code",
   "execution_count": 209,
   "metadata": {},
   "outputs": [],
   "source": [
    "# Part C - Fill in the regular expression\n",
    "RE_PATTERN = re.compile(r'\\b[^\\d\\W]+\\b')          "
   ]
  },
  {
   "cell_type": "code",
   "execution_count": 210,
   "metadata": {},
   "outputs": [
    {
     "name": "stdout",
     "output_type": "stream",
     "text": [
      "['by', 'the', 'bye', 'what', 'became', 'of', 'alice', 's', 'hats']\n"
     ]
    }
   ],
   "source": [
    "# Tokenize - DO NOT MODIFY THIS CELL, just run it as is to check your pattern\n",
    "words = re.findall(RE_PATTERN, \"By-the-bye, what became of Alice's 12 hats?!\".lower())\n",
    "print(words)"
   ]
  },
  {
   "cell_type": "markdown",
   "metadata": {},
   "source": [
    "# Load the Data\n",
    "` \"Please would you tell me\", said Alice, a little timidly, for she was not quite sure whether it was good manners for her to speak first, \"why your cat grins like that?\"`  \n",
    "<div style=\"text-align: right\">  -- Lewis Carroll, _Alice's Adventures in Wonderland_, Chapter 4  </div>\n",
    "\n",
    "For the main part of this assignment we'll be working with the free plain text version of _Alice's Adventures in Wonderland_ available from Project Gutenberg. __Use the first two cells below to download this text and preview the first few lines.__ "
   ]
  },
  {
   "cell_type": "code",
   "execution_count": 16,
   "metadata": {},
   "outputs": [
    {
     "name": "stdout",
     "output_type": "stream",
     "text": [
      "  % Total    % Received % Xferd  Average Speed   Time    Time     Time  Current\n",
      "                                 Dload  Upload   Total   Spent    Left  Speed\n",
      "  0     0    0     0    0     0      0      0 --:--:-- --:--:-- --:--:--     0\n",
      "100  170k  100  170k    0     0   157k      0  0:00:01  0:00:01 --:--:--  573k\n"
     ]
    }
   ],
   "source": [
    "# Download Full text \n",
    "# NOTE: feel free to replace 'curl' with 'wget' or equivalent command of your choice.\n",
    "#!curl \"http://www.gutenberg.org/files/11/11-0.txt\" -o data/alice.txt\n",
    "!curl -L \"http://www.gutenberg.org/files/11/11-0.txt\" -o data/alice.txt\n",
    "#!wget \"http://www.gutenberg.org/files/11/11-0.txt\" -o data/alice.txt"
   ]
  },
  {
   "cell_type": "code",
   "execution_count": 17,
   "metadata": {},
   "outputs": [
    {
     "name": "stdout",
     "output_type": "stream",
     "text": [
      "﻿The Project Gutenberg eBook of Alice’s Adventures in Wonderland, by Lewis Carroll\n",
      "\n",
      "This eBook is for the use of anyone anywhere in the United States and\n",
      "most other parts of the world at no cost and with almost no restrictions\n",
      "whatsoever. You may copy it, give it away or re-use it under the terms\n",
      "of the Project Gutenberg License included with this eBook or online at\n"
     ]
    }
   ],
   "source": [
    "# Take a peak at the first few lines\n",
    "!head -n 6 data/alice.txt\n",
    "# NOTE: If you are working in JupyterLab on Docker you may not see the output \n",
    "# below due to an encoding issue... in that case, use a terminal on Docker to \n",
    "# execute this head command and confirm that the file has downloaded properly, \n",
    "# this encoding issue should not affect your work on subsequent HW items."
   ]
  },
  {
   "cell_type": "markdown",
   "metadata": {},
   "source": [
    "We'd also like you to develop a habit of creating small files with simulated data for use in developing, debugging and testing your code. The jupyter magic command `%%writefile` is a convenient way to do this. __Run the following cells to create a test data file for use in our word counting task.__"
   ]
  },
  {
   "cell_type": "code",
   "execution_count": 18,
   "metadata": {},
   "outputs": [
    {
     "name": "stdout",
     "output_type": "stream",
     "text": [
      "Overwriting data/alice_test.txt\n"
     ]
    }
   ],
   "source": [
    "%%writefile data/alice_test.txt\n",
    "This is a small test file. This file is for a test.\n",
    "This small test file has two small lines."
   ]
  },
  {
   "cell_type": "code",
   "execution_count": 19,
   "metadata": {},
   "outputs": [
    {
     "name": "stdout",
     "output_type": "stream",
     "text": [
      "alice_test.txt\n"
     ]
    }
   ],
   "source": [
    "# confirm the file was created in the data directory using a grep command:\n",
    "!ls data | grep test"
   ]
  },
  {
   "cell_type": "markdown",
   "metadata": {},
   "source": [
    "# Question 4: Word Count in Python\n",
    "\n",
    "Over the course of this term you will also become very familiar writing Python programs that read from standard input and using Linux piping commands to run these programs and save their output to file. __In this question you will write a short python script to perform the Word Count task and then run your script on the _Alice in Wonderland_ text__. You can think of this like a 'baseline implementation' that we'll later compare to the parallelized version of the same task.\n",
    "\n",
    "### Q4 Tasks:\n",
    "\n",
    "* __a) code:__ Complete the Python script in the file __`wordCount.py`__. Read the docstrings carefully to be sure you understand the expected behavior of this function. Please do not code outside of the marked location.\n",
    "\n",
    "\n",
    "* __b) testing:__ Run the cell marked `part b` to call your script on the test file we created above. Confirm that your script returns the correct counts for each word by visually comparing the output to the test file. \n",
    "\n",
    "\n",
    "* __c) results:__ When you are confident in your implementation, run the cell marked `part c` to count the number of occurrences of each word in _Alice's Adventures in Wonderland_. In the same cell we'll pipe the output to file. Then use the provided `grep` commands to check your answers.\n",
    "\n",
    "\n",
    "* __d) short response:__ Suppose you decide that you'd really like  a word and its plural (e.g. 'hatter' and 'hatters' or 'person' and 'people') to be counted as the same word. After we have run the wordcount would it be more efficient to post-process your output file or discard your output file and start the analysis over with a new tokenizer? Explain your reasoning briefly. "
   ]
  },
  {
   "cell_type": "markdown",
   "metadata": {},
   "source": [
    "### Q4 Student Answers:\n",
    "> __a-c)__ _Complete the coding portions of this question before answering 'e'._\n",
    "\n",
    "> __d)__ In this Alice.txt instance, I would probably comb through the data post processing and try to aggregate these edge cases but this would require either storing the output as a variable or somehow reading through the output print statement to scan for these instances (which I'm unlcear if this is possible) as I saw the Alice text is not that large and can be handled on a local machin . For a different scenario where I don't know how large the corpous could be, I would try to handle it with a new tockenizer to make the solution more generally applicable to all incoming data streams.   "
   ]
  },
  {
   "cell_type": "code",
   "execution_count": null,
   "metadata": {
    "collapsed": true,
    "jupyter": {
     "outputs_hidden": true
    }
   },
   "outputs": [],
   "source": [
    "# part a - DO YOUR WORK IN wordCount.py"
   ]
  },
  {
   "cell_type": "code",
   "execution_count": 140,
   "metadata": {},
   "outputs": [
    {
     "name": "stdout",
     "output_type": "stream",
     "text": [
      "this\t3\n",
      "is\t2\n",
      "a\t2\n",
      "small\t3\n",
      "test\t3\n",
      "file\t3\n",
      "for\t1\n",
      "has\t1\n",
      "two\t1\n",
      "lines\t1\n"
     ]
    }
   ],
   "source": [
    "!cat wordCount.py"
   ]
  },
  {
   "cell_type": "code",
   "execution_count": null,
   "metadata": {},
   "outputs": [],
   "source": [
    "# part b - DO NOT MODIFY THIS CELL, just run it as is to test your script\n",
    "!python wordCount.py < data/alice_test.txt"
   ]
  },
  {
   "cell_type": "code",
   "execution_count": 141,
   "metadata": {},
   "outputs": [],
   "source": [
    "# part c - DO NOT MODIFY THIS CELL, just run it as is to perform the word count.\n",
    "!python wordCount.py < data/alice.txt > data/alice_counts.txt"
   ]
  },
  {
   "cell_type": "markdown",
   "metadata": {},
   "source": [
    "Take a look at the first 10 words & their counts."
   ]
  },
  {
   "cell_type": "code",
   "execution_count": 142,
   "metadata": {},
   "outputs": [
    {
     "name": "stdout",
     "output_type": "stream",
     "text": [
      "the\t1839\n",
      "project\t88\n",
      "gutenberg\t98\n",
      "ebook\t13\n",
      "of\t638\n",
      "alice\t403\n",
      "s\t222\n",
      "adventures\t11\n",
      "in\t435\n",
      "wonderland\t7\n"
     ]
    }
   ],
   "source": [
    "!head data/alice_counts.txt"
   ]
  },
  {
   "cell_type": "markdown",
   "metadata": {},
   "source": [
    "__Check your results:__ How many times does the word \"alice\" appear in the book? "
   ]
  },
  {
   "cell_type": "code",
   "execution_count": 143,
   "metadata": {},
   "outputs": [
    {
     "name": "stdout",
     "output_type": "stream",
     "text": [
      "alice\t403\n"
     ]
    }
   ],
   "source": [
    "# EXPECTED OUTPUT: 404\n",
    "!grep alice data/alice_counts.txt"
   ]
  },
  {
   "cell_type": "markdown",
   "metadata": {},
   "source": [
    "__Check your results:__ How many times does the word \"hatter\" appear in the book? "
   ]
  },
  {
   "cell_type": "code",
   "execution_count": 144,
   "metadata": {},
   "outputs": [
    {
     "name": "stdout",
     "output_type": "stream",
     "text": [
      "hatter\t56\n",
      "hatters\t1\n"
     ]
    }
   ],
   "source": [
    "# EXPECTED OUTPUT: 56\n",
    "!grep hatter data/alice_counts.txt"
   ]
  },
  {
   "cell_type": "markdown",
   "metadata": {},
   "source": [
    "__Check your results:__ How many times does the word \"queen\" appear in the book? "
   ]
  },
  {
   "cell_type": "code",
   "execution_count": 145,
   "metadata": {},
   "outputs": [
    {
     "name": "stdout",
     "output_type": "stream",
     "text": [
      "queen\t76\n",
      "queens\t1\n"
     ]
    }
   ],
   "source": [
    "# EXPECTED OUTPUT: 76\n",
    "!grep queen data/alice_counts.txt"
   ]
  },
  {
   "cell_type": "markdown",
   "metadata": {},
   "source": [
    "# Question 5: Unix Sorting Practice\n",
    "Another common task in this course's assignments will be to make strategic use of sorting.     \n",
    "\n",
    "### Q5 Tasks:\n",
    "* __a) short response:__ What is the Big O complexity of the fastest comparison based sorting algorithms? [*HINT: If you need a Big O notation refresher, here's_ a [blog post](https://rob-bell.net/2009/06/a-beginners-guide-to-big-o-notation/), a [cheatsheet](http://bigocheatsheet.com), and a [thorough explanation](http://pages.cs.wisc.edu/~vernon/cs367/notes/3.COMPLEXITY.html).*]\n",
    "\n",
    "* __b) short response:__ What is the default sorting algorithm in MapReduce? What is the Big O complexity of this algorithm? Why do you think this algorithm was chosen? [*HINT: Julius Ceasar! (week 1 slides)*]\n",
    "\n",
    "* __c) code:__ write a unix command to check how many records are in your word count file.\n",
    "\n",
    "* __d) code:__ Write a unix command to sort your word count file alphabetically. Save (i.e. [redirect](https://superuser.com/questions/277324/pipes-vs-redirects)) the results to `data/alice_counts_A-Z.txt`. [*HINT: if Unix sort commands are new to you, start with [this biowize blogpost](https://biowize.wordpress.com/2015/03/13/unix-sort-sorting-with-both-numeric-and-non-numeric-keys/) or [this unixschool tutorial](http://www.theunixschool.com/2012/08/linux-sort-command-examples.html)*]\n",
    "\n",
    "* __e) code:__ Write a unix command to sort your word count file from highest to lowest count. Save (i.e. [redirect](https://superuser.com/questions/277324/pipes-vs-redirects)) your results to `data/alice_counts_sorted.txt`; then run the provided cell to print the top ten words. Compare your output to the expected output we provide."
   ]
  },
  {
   "cell_type": "markdown",
   "metadata": {},
   "source": [
    "### Q5 Student Answers:\n",
    "> __a)__ The worst time complexity of the fastest comparison based sorting algorithm is O(n+k), that is the time performance will at worst grow linearly and in direct proportion to the size of the input data set\n",
    "\n",
    "> __b)__ The default sorting algorithm of MapReduce is merge-sort and has a log based big O notation of O(n*log n). This algorithm plays really well with distributed systems and the map-reduce framework given the algorithm design is straightforward (e.g. divide the data and distribute on different clusters until it is no longer divisable and then reduce the distributed elements into a sorted list by comparing the partially sorted mappers sequentially). MapReduce provides an abstraction that isolates the programmer from system-level details and the sorting alogirthm only needs to be designed once and then can be scaled out.\n",
    "\n"
   ]
  },
  {
   "cell_type": "code",
   "execution_count": 146,
   "metadata": {},
   "outputs": [
    {
     "name": "stdout",
     "output_type": "stream",
     "text": [
      "    3006 data/alice_counts.txt\n"
     ]
    }
   ],
   "source": [
    "# part c - write a unix command to check how many records are in your word count file\n",
    "!wc -l data/alice_counts.txt"
   ]
  },
  {
   "cell_type": "code",
   "execution_count": 147,
   "metadata": {},
   "outputs": [],
   "source": [
    "# part d - unix command to sort your word counts alphabetically \n",
    "!sort -k1,1 data/alice_counts.txt > data/alice_counts_A-Z.txt "
   ]
  },
  {
   "cell_type": "code",
   "execution_count": 148,
   "metadata": {},
   "outputs": [
    {
     "name": "stdout",
     "output_type": "stream",
     "text": [
      "a\t695\n",
      "abide\t2\n",
      "able\t1\n",
      "about\t102\n",
      "above\t3\n",
      "absence\t1\n",
      "absurd\t2\n",
      "accept\t1\n",
      "acceptance\t1\n",
      "accepted\t2\n"
     ]
    }
   ],
   "source": [
    "# part d - DO NOT MODIFY THIS CELL, run it as is to confirm your sort worked\n",
    "!head data/alice_counts_A-Z.txt   "
   ]
  },
  {
   "cell_type": "code",
   "execution_count": 149,
   "metadata": {},
   "outputs": [],
   "source": [
    "# part e - unix command to sort your word counts from highest to lowest count\n",
    "!sort -k2,2rn data/alice_counts.txt > data/alice_counts_sorted.txt"
   ]
  },
  {
   "cell_type": "code",
   "execution_count": 150,
   "metadata": {},
   "outputs": [
    {
     "name": "stdout",
     "output_type": "stream",
     "text": [
      "the\t1839\n",
      "and\t942\n",
      "to\t811\n",
      "a\t695\n",
      "of\t638\n",
      "it\t610\n",
      "she\t553\n",
      "i\t546\n",
      "you\t486\n",
      "said\t462\n"
     ]
    }
   ],
   "source": [
    "# part e - DO NOT MODIFY THIS CELL, run it as is to confirm your sort worked\n",
    "!head data/alice_counts_sorted.txt  "
   ]
  },
  {
   "cell_type": "markdown",
   "metadata": {},
   "source": [
    "<table>\n",
    "<th>expected output for (d):</th>\n",
    "<th>expected output for (e):</th>\n",
    "<tr><td><pre>\n",
    "a\t695\n",
    "abide\t2\n",
    "able\t1\n",
    "about\t102\n",
    "above\t3\n",
    "absence\t1\n",
    "absurd\t2\n",
    "accept\t1\n",
    "acceptance\t1\n",
    "accepted\t2\n",
    "</pre></td>\n",
    "<td><pre>\n",
    "the\t1837\n",
    "and\t946\n",
    "to\t811\n",
    "a\t695\n",
    "of\t637\n",
    "it\t610\n",
    "she\t553\n",
    "i\t546\n",
    "you\t487\n",
    "said\t462\n",
    "</pre></td></tr>\n",
    "</table>"
   ]
  },
  {
   "cell_type": "markdown",
   "metadata": {},
   "source": [
    "# Question 6: Parallel Word Count (part 1)\n",
    "What would happen if we tried to run our script on a much larger dataset? For one thing, it would take longer to run. However there is a second concern. The Python object that aggregates our counts (`defaultdict`) exists in memory on the machine running this notebook. If the vocabulary is too large for the memory space available we would crash the notebook. The solution? Divide and Conquer! Instead of running the script on the whole dataset at once, we could split our text up in to smaller 'chunks' and process them independently of each other. __In this question you'll use a bash script to \"parallelize\" your Word Count.__\n",
    "\n",
    "\n",
    "### Q6 Tasks:\n",
    "* __a) read provided code:__ The bash script `pWordCount_v1.sh` takes an input file, splits it into a specified number of 'chunks', and then applies an executable of your choice to each chunk. Read through this code and make sure you understand each line before you proceed. [`HINT:` _For now, ignore the 'student code' section -- you'll use that in part c._]\n",
    "\n",
    "\n",
    "* __b) short response:__ Below we've provided the command to use this script to apply your analysis (`wordCount.py`) to the _Alice_ text in 4 parallel processes. We'll redirect the results into a file called `alice_pCounts.txt.` Run this analysis and compare the count for the word 'alice' to your answer from Question 4. Explain what went wrong and describe what we have to add to `pWordCount_v1.sh` to fix the problem.\n",
    "\n",
    "\n",
    "* __c) code:__ We've provided a python script, `aggregateCounts_v1.py`, which reads word counts from standard input and combines any duplicates it encounters. Read through this script to be sure you understand how it is written. Then follow the instructions in `pWordCount_v1.sh` to make a one-line modification so that it accepts `aggregateCounts_v1.py` as a 4th argument and uses this script to combine the chunk-ed word counts. Run the cell below to confirm that you now get the correct results for your 'alice' count."
   ]
  },
  {
   "cell_type": "markdown",
   "metadata": {},
   "source": [
    "### Q6 Student Answers:\n",
    "> __b)__ In pWordCount_v1, the reducer did not properly aggregate all of the sorted alice counts into a final alice count as they were not globally sorted but instead were only locally sorted in the mapper. To correct this, we've still presorted the mapper data alphabetically (to increase the sort efficiency of the reducer) and then merge sorted and finally updated the reducer so that it now properly aggregates all identical words like 'Alice'."
   ]
  },
  {
   "cell_type": "code",
   "execution_count": 151,
   "metadata": {},
   "outputs": [],
   "source": [
    "# part b - make sure your scripts are executable (RUN THIS CELL AS IS)\n",
    "!chmod a+x pWordCount_v1.sh\n",
    "!chmod a+x wordCount.py"
   ]
  },
  {
   "cell_type": "code",
   "execution_count": 152,
   "metadata": {},
   "outputs": [],
   "source": [
    "# part b - parallel word count on Alice text (RUN THIS CELL AS IS)\n",
    "!./pWordCount_v1.sh 4 'data/alice.txt' 'wordCount.py' > 'data/alice_pCounts.txt'"
   ]
  },
  {
   "cell_type": "code",
   "execution_count": 153,
   "metadata": {},
   "outputs": [
    {
     "name": "stdout",
     "output_type": "stream",
     "text": [
      "alice\t113\n",
      "alice\t126\n",
      "alice\t122\n",
      "alice\t42\n"
     ]
    }
   ],
   "source": [
    "# part b - check alice count (RUN THIS CELL AS IS)\n",
    "!grep alice data/alice_pCounts.txt"
   ]
  },
  {
   "cell_type": "code",
   "execution_count": 154,
   "metadata": {},
   "outputs": [],
   "source": [
    "# part c - make sure the aggregateCounts script is executable (RUN THIS CELL AS IS)\n",
    "!chmod a+x aggregateCounts_v1.py"
   ]
  },
  {
   "cell_type": "code",
   "execution_count": 155,
   "metadata": {},
   "outputs": [],
   "source": [
    "!cat pWordCount_v1.sh"
   ]
  },
  {
   "cell_type": "code",
   "execution_count": null,
   "metadata": {},
   "outputs": [],
   "source": [
    "# part c - parallel word count on Alice text (RUN THIS CELL AS IS)\n",
    "!./pWordCount_v1.sh 4 'data/alice.txt' \\\n",
    "                   'wordCount.py' \\\n",
    "                   'aggregateCounts_v1.py' \\\n",
    "                   > 'data/alice_pCounts.txt'"
   ]
  },
  {
   "cell_type": "code",
   "execution_count": 156,
   "metadata": {},
   "outputs": [
    {
     "name": "stdout",
     "output_type": "stream",
     "text": [
      "alice\t403\n"
     ]
    }
   ],
   "source": [
    "# part c - check alice count (RUN THIS CELL AS IS)\n",
    "!grep alice data/alice_pCounts.txt"
   ]
  },
  {
   "cell_type": "code",
   "execution_count": 39,
   "metadata": {},
   "outputs": [
    {
     "name": "stdout",
     "output_type": "stream",
     "text": [
      "\n",
      "SORT(1)                   BSD General Commands Manual                  SORT(1)\n",
      "\n",
      "NAME\n",
      "     sort -- sort or merge records (lines) of text and binary files\n",
      "\n",
      "SYNOPSIS\n",
      "     sort [-bcCdfghiRMmnrsuVz] [-k field1[,field2]] [-S memsize] [-T dir]\n",
      "          [-t char] [-o output] [file ...]\n",
      "     sort --help\n",
      "     sort --version\n",
      "\n",
      "DESCRIPTION\n",
      "     The sort utility sorts text and binary files by lines.  A line is a\n",
      "     record separated from the subsequent record by a newline (default) or NUL\n",
      "     '\\0' character (-z option).  A record can contain any printable or\n",
      "     unprintable characters.  Comparisons are based on one or more sort keys\n",
      "     extracted from each line of input, and are performed lexicographically,\n",
      "     according to the current locale's collating rules and the specified com-\n",
      "     mand-line options that can tune the actual sorting behavior.  By default,\n",
      "     if keys are not given, sort uses entire lines for comparison.\n",
      "\n",
      "     The command line options are as follows:\n",
      "\n",
      "     -c, --check, -C, --check=silent|quiet\n",
      "             Check that the single input file is sorted.  If the file is not\n",
      "             sorted, sort produces the appropriate error messages and exits\n",
      "             with code 1, otherwise returns 0.  If -C or --check=silent is\n",
      "             specified, sort produces no output.  This is a \"silent\" version\n",
      "             of -c.\n",
      "\n",
      "     -m, --merge\n",
      "             Merge only.  The input files are assumed to be pre-sorted.  If\n",
      "             they are not sorted the output order is undefined.\n",
      "\n",
      "     -o output, --output=output\n",
      "             Print the output to the output file instead of the standard out-\n",
      "             put.\n",
      "\n",
      "     -S size, --buffer-size=size\n",
      "             Use size for the maximum size of the memory buffer.  Size modi-\n",
      "             fiers %,b,K,M,G,T,P,E,Z,Y can be used.  If a memory limit is not\n",
      "             explicitly specified, sort takes up to about 90% of available\n",
      "             memory.  If the file size is too big to fit into the memory\n",
      "             buffer, the temporary disk files are used to perform the sorting.\n",
      "\n",
      "     -T dir, --temporary-directory=dir\n",
      "             Store temporary files in the directory dir.  The default path is\n",
      "             the value of the environment variable TMPDIR or /var/tmp if\n",
      "             TMPDIR is not defined.\n",
      "\n",
      "     -u, --unique\n",
      "             Unique keys.  Suppress all lines that have a key that is equal to\n",
      "             an already processed one.  This option, similarly to -s, implies\n",
      "             a stable sort.  If used with -c or -C, sort also checks that\n",
      "             there are no lines with duplicate keys.\n",
      "\n",
      "     -s      Stable sort.  This option maintains the original record order of\n",
      "             records that have an equal key.  This is a non-standard feature,\n",
      "             but it is widely accepted and used.\n",
      "\n",
      "     --version\n",
      "             Print the version and silently exits.\n",
      "\n",
      "     --help  Print the help text and silently exits.\n",
      "\n",
      "     The following options override the default ordering rules.  When ordering\n",
      "     options appear independently of key field specifications, they apply\n",
      "     globally to all sort keys.  When attached to a specific key (see -k), the\n",
      "     ordering options override all global ordering options for the key they\n",
      "     are attached to.\n",
      "\n",
      "     -b, --ignore-leading-blanks\n",
      "             Ignore leading blank characters when comparing lines.\n",
      "\n",
      "     -d, --dictionary-order\n",
      "             Consider only blank spaces and alphanumeric characters in compar-\n",
      "             isons.\n",
      "\n",
      "     -f, --ignore-case\n",
      "             Convert all lowercase characters to their uppercase equivalent\n",
      "             before comparison, that is, perform case-independent sorting.\n",
      "\n",
      "     -g, --general-numeric-sort, --sort=general-numeric\n",
      "             Sort by general numerical value.  As opposed to -n, this option\n",
      "             handles general floating points.  It has a more permissive format\n",
      "             than that allowed by -n but it has a significant performance\n",
      "             drawback.\n",
      "\n",
      "     -h, --human-numeric-sort, --sort=human-numeric\n",
      "             Sort by numerical value, but take into account the SI suffix, if\n",
      "             present.  Sort first by numeric sign (negative, zero, or posi-\n",
      "             tive); then by SI suffix (either empty, or `k' or `K', or one of\n",
      "             `MGTPEZY', in that order); and finally by numeric value.  The SI\n",
      "             suffix must immediately follow the number.  For example, '12345K'\n",
      "             sorts before '1M', because M is \"larger\" than K.  This sort\n",
      "             option is useful for sorting the output of a single invocation of\n",
      "             'df' command with -h or -H options (human-readable).\n",
      "\n",
      "     -i, --ignore-nonprinting\n",
      "             Ignore all non-printable characters.\n",
      "\n",
      "     -M, --month-sort, --sort=month\n",
      "             Sort by month abbreviations.  Unknown strings are considered\n",
      "             smaller than the month names.\n",
      "\n",
      "     -n, --numeric-sort, --sort=numeric\n",
      "             Sort fields numerically by arithmetic value.  Fields are supposed\n",
      "             to have optional blanks in the beginning, an optional minus sign,\n",
      "             zero or more digits (including decimal point and possible thou-\n",
      "             sand separators).\n",
      "\n",
      "     -R, --random-sort, --sort=random\n",
      "             Sort by a random order.  This is a random permutation of the\n",
      "             inputs except that the equal keys sort together.  It is imple-\n",
      "             mented by hashing the input keys and sorting the hash values.\n",
      "             The hash function is chosen randomly.  The hash function is ran-\n",
      "             domized by /dev/random content, or by file content if it is spec-\n",
      "             ified by --random-source.  Even if multiple sort fields are spec-\n",
      "             ified, the same random hash function is used for all of them.\n",
      "\n",
      "     -r, --reverse\n",
      "             Sort in reverse order.\n",
      "\n",
      "     -V, --version-sort\n",
      "             Sort version numbers.  The input lines are treated as file names\n",
      "             in form PREFIX VERSION SUFFIX, where SUFFIX matches the regular\n",
      "             expression \"(.([A-Za-z~][A-Za-z0-9~]*)?)*\".  The files are com-\n",
      "             pared by their prefixes and versions (leading zeros are ignored\n",
      "             in version numbers, see example below).  If an input string does\n",
      "             not match the pattern, then it is compared using the byte compare\n",
      "             function.  All string comparisons are performed in C locale, the\n",
      "             locale environment setting is ignored.\n",
      "\n",
      "             Example:\n",
      "\n",
      "             $ ls sort* | sort -V\n",
      "\n",
      "             sort-1.022.tgz\n",
      "\n",
      "             sort-1.23.tgz\n",
      "\n",
      "             sort-1.23.1.tgz\n",
      "\n",
      "             sort-1.024.tgz\n",
      "\n",
      "             sort-1.024.003.\n",
      "\n",
      "             sort-1.024.003.tgz\n",
      "\n",
      "             sort-1.024.07.tgz\n",
      "\n",
      "             sort-1.024.009.tgz\n",
      "\n",
      "     The treatment of field separators can be altered using these options:\n",
      "\n",
      "     -b, --ignore-leading-blanks\n",
      "             Ignore leading blank space when determining the start and end of\n",
      "             a restricted sort key (see -k).  If -b is specified before the\n",
      "             first -k option, it applies globally to all key specifications.\n",
      "             Otherwise, -b can be attached independently to each field argu-\n",
      "             ment of the key specifications.  -b.\n",
      "\n",
      "     -k field1[,field2], --key=field1[,field2]\n",
      "             Define a restricted sort key that has the starting position\n",
      "             field1, and optional ending position field2 of a key field.  The\n",
      "             -k option may be specified multiple times, in which case subse-\n",
      "             quent keys are compared when earlier keys compare equal.  The -k\n",
      "             option replaces the obsolete options +pos1 and -pos2, but the old\n",
      "             notation is also supported.\n",
      "\n",
      "     -t char, --field-separator=char\n",
      "             Use char as a field separator character.  The initial char is not\n",
      "             considered to be part of a field when determining key offsets.\n",
      "             Each occurrence of char is significant (for example, ``charchar''\n",
      "             delimits an empty field).  If -t is not specified, the default\n",
      "             field separator is a sequence of blank space characters, and con-\n",
      "             secutive blank spaces do not delimit an empty field, however, the\n",
      "             initial blank space is considered part of a field when determin-\n",
      "             ing key offsets.  To use NUL as field separator, use -t '\\0'.\n",
      "\n",
      "     -z, --zero-terminated\n",
      "             Use NUL as record separator.  By default, records in the files\n",
      "             are supposed to be separated by the newline characters.  With\n",
      "             this option, NUL ('\\0') is used as a record separator character.\n",
      "\n",
      "     Other options:\n",
      "\n",
      "     --batch-size=num\n",
      "             Specify maximum number of files that can be opened by sort at\n",
      "             once.  This option affects behavior when having many input files\n",
      "             or using temporary files.  The default value is 16.\n",
      "\n",
      "     --compress-program=PROGRAM\n",
      "             Use PROGRAM to compress temporary files.  PROGRAM must compress\n",
      "             standard input to standard output, when called without arguments.\n",
      "             When called with argument -d it must decompress standard input to\n",
      "             standard output.  If PROGRAM fails, sort must exit with error.\n",
      "             An example of PROGRAM that can be used here is bzip2.\n",
      "\n",
      "     --random-source=filename\n",
      "             In random sort, the file content is used as the source of the\n",
      "             'seed' data for the hash function choice.  Two invocations of\n",
      "             random sort with the same seed data will use the same hash func-\n",
      "             tion and will produce the same result if the input is also iden-\n",
      "             tical.  By default, file /dev/random is used.\n",
      "\n",
      "     --debug\n",
      "             Print some extra information about the sorting process to the\n",
      "             standard output.\n",
      "\n",
      "     --parallel\n",
      "             Set the maximum number of execution threads.  Default number\n",
      "             equals to the number of CPUs.\n",
      "\n",
      "     --files0-from=filename\n",
      "             Take the input file list from the file filename.  The file names\n",
      "             must be separated by NUL (like the output produced by the command\n",
      "             \"find ... -print0\").\n",
      "\n",
      "     --radixsort\n",
      "             Try to use radix sort, if the sort specifications allow.  The\n",
      "             radix sort can only be used for trivial locales (C and POSIX),\n",
      "             and it cannot be used for numeric or month sort.  Radix sort is\n",
      "             very fast and stable.\n",
      "\n",
      "     --mergesort\n",
      "             Use mergesort.  This is a universal algorithm that can always be\n",
      "             used, but it is not always the fastest.\n",
      "\n",
      "     --qsort\n",
      "             Try to use quick sort, if the sort specifications allow.  This\n",
      "             sort algorithm cannot be used with -u and -s.\n",
      "\n",
      "     --heapsort\n",
      "             Try to use heap sort, if the sort specifications allow.  This\n",
      "             sort algorithm cannot be used with -u and -s.\n",
      "\n",
      "     --mmap  Try to use file memory mapping system call.  It may increase\n",
      "             speed in some cases.\n",
      "\n",
      "     The following operands are available:\n",
      "\n",
      "     file    The pathname of a file to be sorted, merged, or checked.  If no\n",
      "             file operands are specified, or if a file operand is -, the stan-\n",
      "             dard input is used.\n",
      "\n",
      "     A field is defined as a maximal sequence of characters other than the\n",
      "     field separator and record separator (newline by default).  Initial blank\n",
      "     spaces are included in the field unless -b has been specified; the first\n",
      "     blank space of a sequence of blank spaces acts as the field separator and\n",
      "     is included in the field (unless -t is specified).  For example, all\n",
      "     blank spaces at the beginning of a line are considered to be part of the\n",
      "     first field.\n",
      "\n",
      "     Fields are specified by the -k field1[,field2] command-line option.  If\n",
      "     field2 is missing, the end of the key defaults to the end of the line.\n",
      "\n",
      "     The arguments field1 and field2 have the form m.n (m,n > 0) and can be\n",
      "     followed by one or more of the modifiers b, d, f, i, n, g, M and r, which\n",
      "     correspond to the options discussed above.  When b is specified it\n",
      "     applies only to field1 or field2 where it is specified while the rest of\n",
      "     the modifiers apply to the whole key field regardless if they are speci-\n",
      "     fied only with field1 or field2 or both.  A field1 position specified by\n",
      "     m.n is interpreted as the nth character from the beginning of the mth\n",
      "     field.  A missing .n in field1 means `.1', indicating the first character\n",
      "     of the mth field; if the -b option is in effect, n is counted from the\n",
      "     first non-blank character in the mth field; m.1b refers to the first non-\n",
      "     blank character in the mth field.  1.n refers to the nth character from\n",
      "     the beginning of the line; if n is greater than the length of the line,\n",
      "     the field is taken to be empty.\n",
      "\n",
      "     nth positions are always counted from the field beginning, even if the\n",
      "     field is shorter than the number of specified positions.  Thus, the key\n",
      "     can really start from a position in a subsequent field.\n",
      "\n",
      "     A field2 position specified by m.n is interpreted as the nth character\n",
      "     (including separators) from the beginning of the mth field.  A missing .n\n",
      "     indicates the last character of the mth field; m = 0 designates the end\n",
      "     of a line.  Thus the option -k v.x,w.y is synonymous with the obsolete\n",
      "     option +v-1.x-1 -w-1.y; when y is omitted, -k v.x,w is synonymous with\n",
      "     +v-1.x-1 -w.0.  The obsolete +pos1 -pos2 option is still supported,\n",
      "     except for -w.0b, which has no -k equivalent.\n",
      "\n",
      "ENVIRONMENT\n",
      "     LC_COLLATE  Locale settings to be used to determine the collation for\n",
      "                 sorting records.\n",
      "\n",
      "     LC_CTYPE    Locale settings to be used to case conversion and classifica-\n",
      "                 tion of characters, that is, which characters are considered\n",
      "                 whitespaces, etc.\n",
      "\n",
      "     LC_MESSAGES\n",
      "                 Locale settings that determine the language of output mes-\n",
      "                 sages that sort prints out.\n",
      "\n",
      "     LC_NUMERIC  Locale settings that determine the number format used in\n",
      "                 numeric sort.\n",
      "\n",
      "     LC_TIME     Locale settings that determine the month format used in month\n",
      "                 sort.\n",
      "\n",
      "     LC_ALL      Locale settings that override all of the above locale set-\n",
      "                 tings.  This environment variable can be used to set all\n",
      "                 these settings to the same value at once.\n",
      "\n",
      "     LANG        Used as a last resort to determine different kinds of locale-\n",
      "                 specific behavior if neither the respective environment vari-\n",
      "                 able, nor LC_ALL are set.\n",
      "\n",
      "     TMPDIR      Path to the directory in which temporary files will be\n",
      "                 stored.  Note that TMPDIR may be overridden by the -T option.\n",
      "\n",
      "     GNUSORT_NUMERIC_COMPATIBILITY\n",
      "                 If defined -t will not override the locale numeric symbols,\n",
      "                 that is, thousand separators and decimal separators.  By\n",
      "                 default, if we specify -t with the same symbol as the thou-\n",
      "                 sand separator or decimal point, the symbol will be treated\n",
      "                 as the field separator.  Older behavior was less definite;\n",
      "                 the symbol was treated as both field separator and numeric\n",
      "                 separator, simultaneously.  This environment variable enables\n",
      "                 the old behavior.\n",
      "\n",
      "     GNUSORT_COMPATIBLE_BLANKS\n",
      "                 Use 'space' symbols as field separators (as modern GNU sort\n",
      "                 does).\n",
      "\n",
      "FILES\n",
      "     /var/tmp/.bsdsort.PID.*           Temporary files.\n",
      "     /dev/random                       Default seed file for the random sort.\n",
      "\n",
      "EXIT STATUS\n",
      "     The sort utility shall exit with one of the following values:\n",
      "\n",
      "     0     Successfully sorted the input files or if used with -c or -C, the\n",
      "           input file already met the sorting criteria.\n",
      "     1     On disorder (or non-uniqueness) with the -c or -C options.\n",
      "     2     An error occurred.\n",
      "\n",
      "SEE ALSO\n",
      "     comm(1), join(1), uniq(1)\n",
      "\n",
      "STANDARDS\n",
      "     The sort utility is compliant with the IEEE Std 1003.1-2008 (``POSIX.1'')\n",
      "     specification.\n",
      "\n",
      "     The flags [-ghRMSsTVz] are extensions to the POSIX specification.\n",
      "\n",
      "     All long options are extensions to the specification, some of them are\n",
      "     provided for compatibility with GNU versions and some of them are own\n",
      "     extensions.\n",
      "\n",
      "     The old key notations +pos1 and -pos2 come from older versions of sort\n",
      "     and are still supported but their use is highly discouraged.\n",
      "\n",
      "HISTORY\n",
      "     A sort command first appeared in Version 3 AT&T UNIX.\n",
      "\n",
      "AUTHORS\n",
      "     Gabor Kovesdan <gabor@FreeBSD.org>,\n",
      "\n",
      "     Oleg Moskalenko <mom040267@gmail.com>\n",
      "\n",
      "NOTES\n",
      "     This implementation of sort has no limits on input line length (other\n",
      "     than imposed by available memory) or any restrictions on bytes allowed\n",
      "     within lines.\n",
      "\n",
      "     The performance depends highly on locale settings, efficient choice of\n",
      "     sort keys and key complexity.  The fastest sort is with locale C, on\n",
      "     whole lines, with option -s.  In general, locale C is the fastest, then\n",
      "     single-byte locales follow and multi-byte locales as the slowest but the\n",
      "     correct collation order is always respected.  As for the key specifica-\n",
      "     tion, the simpler to process the lines the faster the search will be.\n",
      "\n",
      "     When sorting by arithmetic value, using -n results in much better perfor-\n",
      "     mance than -g so its use is encouraged whenever possible.\n",
      "\n",
      "BSD                             March 19, 2015                             BSD\n"
     ]
    }
   ],
   "source": [
    "!man sort"
   ]
  },
  {
   "cell_type": "markdown",
   "metadata": {},
   "source": [
    "# Question 7: Parallel Word Count (part 2)\n",
    "Congratulations, you've just implemented a Map-Reduce algorithm! From here on out, we'll refer to the two python scripts you passed to `pWordCount_v1.sh` as '_mapper_' and '_reducer_'. The bash script itself served as our '_framework_' -- it split up the original input, then ___mapped___ our word counting script on to each chunk, then ___aggregated (a.k.a. reduced)___ the resulting files by piping them into our collation script.  Unfortunately, as you may have realized already, there is a major scalability concern with this particular implementation. __In this question you'll fix our implementation of parallel word count so that it will be scalable.__\n",
    "\n",
    "__HINT:__ MapReduce uses the Merge-Sort algorithm under the hood. Linux `sort` command has a merge option which you can use to simiulate the MapReduce framework. Use the `man sort` command to find more information on this option. \n",
    "\n",
    "### Q7 Tasks:\n",
    "\n",
    "* __a) short response:__ What is the potential scalability problem with the provided implementation of `aggregateCounts_v1.py`? Explain why this supposedly 'parallelized' Word Count wouldn't work on a really large input corpus.  [`HINT:` _see the intro to Q6_]\n",
    "\n",
    "\n",
    "* __b) code:__ Fortunately, a 'strategic sort' can solve this problem. Read the instructions at the top of `pWordCount_v2.sh` carefully then make your changes that alphabetically sort the output from the mappers (`countfiles`) before piping them into the reducer script.\n",
    "\n",
    "\n",
    "* __c) code:__ Write the main part of `aggregateCounts_v2.py` so that it takes advantage of the sorted input to add duplicate counts without storing the whole vocabulary in memory. Refer to the file docstring for more detailed instructions. Confirm that your implementation works by running it on both the test and true data files.\n",
    "\n",
    "\n",
    "* __d) short response:__ If you are paying close attention, this rewritten reducer sets us up for a truly scalable solution, but doesn't get us all the way there. In particular, while we chunked our data so it can be processed by multiple mappers, we're still streaming the entire dataset through one reduce script. If the vocabulary is too large to fit on a single computer, we might split the word counts in half after sorting them, then perform the reducing on two separate machines. Explain what could go wrong with this approach. (For now, ignore the question of how we'd sort a dataset that is too large to fit on a single machine and just focus on what might be wrong about the result of this split-in-half reducing).\n",
    "\n",
    "\n",
    "* __e) short response:__ Can you come up with a different way of splitting up the data that would allow us to perform the reducing on separate machines without needing any postprocessing? This is a theoretical question -- don't worry if you don't know how to implement your idea in a bash script, just describe how you'd want to split the sorted counts into different files to be reduced separately."
   ]
  },
  {
   "cell_type": "markdown",
   "metadata": {},
   "source": [
    "### Q7 Student Answers:\n",
    "\n",
    "> __a)__ We are storing the count values of the corpous to a local python dictionary in memory. i.e. the local memory could blow up for a very large corpous leading to a potential crash if the size of the corpous is large enough.\n",
    "\n",
    "> __b-c)__ _complete the coding portions of this question before answering d and e._\n",
    "\n",
    "> __d)__ I could see two issues with the suggested approach of splitting the post-mapped, sorted dataset in two and then passing to two reducers: 1. if we want to aggregate words like 'alice' and 'alices' with some custom regex logic in the reducer (e.g. strip plurarls in this case), we may accidentally bifracate the data in between two of these cases that occur where the data is set resulting in both cases being reported by the individual reducers; and 2. one reducer will have to know the state of the other reducer before exporting (i.e. there is an alphabetical order to which dataset must be printed first) so there would have to be some post processing of the data, which could signficantly prohibit scaling of this solution if we were to continue adding reducers (how would we handle 1000 reducers for example? who prints first?).\n",
    "\n",
    "> __e)__ Along with the split data, I would also pass the first and last words associated with each of the new bin so both reducers would have access to the edge cases of both data sets to address both issues I described. That way I could add some conditional logic to merge the 'alice' vs 'alices' example as well as some logic to batch reload the current print state of the final output so each reducer knows when it is time to execute/print.  "
   ]
  },
  {
   "cell_type": "code",
   "execution_count": 165,
   "metadata": {},
   "outputs": [],
   "source": [
    "# Add permissions to your new files (RUN THIS CELL AS IS)\n",
    "!chmod a+x pWordCount_v2.sh\n",
    "#!chmod a+x aggregateCounts_v2.sh\n",
    "!chmod a+x aggregateCounts_v2.py "
   ]
  },
  {
   "cell_type": "code",
   "execution_count": 166,
   "metadata": {},
   "outputs": [
    {
     "name": "stdout",
     "output_type": "stream",
     "text": [
      "a\t2\n",
      "file\t3\n",
      "for\t1\n",
      "has\t1\n",
      "is\t2\n",
      "lines\t1\n",
      "small\t3\n",
      "test\t3\n",
      "this\t3\n",
      "two\t1\n"
     ]
    }
   ],
   "source": [
    "!cat pWordCount_v2.sh"
   ]
  },
  {
   "cell_type": "code",
   "execution_count": null,
   "metadata": {},
   "outputs": [],
   "source": [
    "!cat aggregateCounts_v2.py"
   ]
  },
  {
   "cell_type": "code",
   "execution_count": null,
   "metadata": {},
   "outputs": [],
   "source": [
    "# part c - test your code on the test file (RUN THIS CELL AS IS)\n",
    "!./pWordCount_v2.sh 4 'data/alice_test.txt' \\\n",
    "                   'wordCount.py' \\\n",
    "                   'aggregateCounts_v2.py'"
   ]
  },
  {
   "cell_type": "code",
   "execution_count": 167,
   "metadata": {},
   "outputs": [],
   "source": [
    "# part c - run your code on the Alice file (RUN THIS CELL AS IS)\n",
    "!./pWordCount_v2.sh 4 'data/alice.txt' \\\n",
    "                   'wordCount.py' \\\n",
    "                   'aggregateCounts_v2.py' \\\n",
    "                   > 'data/alice_pCounts.txt'"
   ]
  },
  {
   "cell_type": "code",
   "execution_count": 168,
   "metadata": {},
   "outputs": [
    {
     "name": "stdout",
     "output_type": "stream",
     "text": [
      "alice\t403\n"
     ]
    }
   ],
   "source": [
    "# part c - confirm that your 'alice' count is correct (RUN THIS CELL AS IS)\n",
    "!grep alice data/alice_pCounts.txt"
   ]
  },
  {
   "cell_type": "markdown",
   "metadata": {},
   "source": [
    "# Question 8: Scalability Considerations\n",
    "In your reading for Week 2's live session, [Chapter1, section 2](https://lintool.github.io/MapReduceAlgorithms/MapReduce-book-final.pdf) of _Data Intensive Text Processing with MapReduce_, Lin and Dyer discuss a number of \"Big Ideas\" that underlie large scale processing: __scale \"out,\" not \"up\"; assume failures are common; move processing to the data; process data sequentially and avoid random access; hide system-level details from the application developer; and seamless scalability.__ Part of our work this semester will be to interact with these ideas in a practical way, not just a conceptual one.\n",
    "\n",
    "### Q8 Tasks:\n",
    "* __a) short response:__ What do Lin and Dyer consider the two features of an \"ideal algorithm\" from a scalability perspective?\n",
    "\n",
    "\n",
    "* __b) short response:__ The mapper script below (created on the fly using a little Jupyter magic) will help us illustrate the concept of scalability. Run the provided code which passes this mapper script to our parallel computation 'framework' and runs the 'analysis' on the _Alice_ text file. Note that we've omitted a reducer for simplicity. What do you observe about the time it takes to run this \"algorithm\" when we use 1, 2 and 4 partitions? Does it meet Lin and Dyer's criteria?\n",
    "\n",
    "\n",
    "* __c) short response:__ Let's try something similar with your Word Count analysis. Run the provided code to time your implementation with 1, 2, 4 and 8 partitions. What do you observe about the runtimes? Does this match your expectation? Speculate about why we might be seeing these times. What conclusions should we draw about the scalability of our implementation? [`HINT:` _consider the limitations of both your machine and our implementation... there are some competing forces at work, what are they?_]\n",
    "\n",
    "\n",
    "* __d) OPTIONAL:__ Which components of your Map-Reduce algorithm are affected by a change in the number of partitions? Does increasing the number of partitions increase or decrease the total time spent on each of these portions of the task? What tradeoff does this cause?"
   ]
  },
  {
   "cell_type": "markdown",
   "metadata": {},
   "source": [
    "### Q8 Student Answers:\n",
    "\n",
    "> __a)__ The two components to strive for when designing an algorithm to achieve 'ideal behavior' are as follows: \n",
    "\n",
    "        1. given twice the amount of data, the same algorithm should take at most twice as long to run, all else being equal\n",
    "        2. given a cluster twice the size, the same algorithm should take no more than half as long to run\n",
    "\n",
    "\n",
    "> __b)__ In testing Lin and Dyer's second feature with our demo mapper, we see that as we double the number of clusters available, the time to run is reduced by about half each time (i.e. we went from 4.8 ms to 2.5 ms to 1.4 ms with 1, 2, and 4 cores respectively), meeting the second of the ideal behavior criteria.\n",
    "\n",
    "\n",
    "> __c)__ when testing the same concept with our aggregateCounts_v2.py mapper, we do not see the same ideal behavior as we did with our demo mapper. Instead, we see the run time increase with the doubling of clusters available. This is likely due to the fact that: 1. there is not that much data in the Alice text file so one cluster is able to process all of the text fairly quickly and thus additional communication lag time associated with the multiple clusters hurts the runtime performance and 2.\n",
    "\n",
    "> __d)__ Type your (OPTIONAL) answer here!"
   ]
  },
  {
   "cell_type": "markdown",
   "metadata": {},
   "source": [
    "__Run the following cells to create the mapper referenced in `part b`__"
   ]
  },
  {
   "cell_type": "code",
   "execution_count": 169,
   "metadata": {},
   "outputs": [
    {
     "name": "stdout",
     "output_type": "stream",
     "text": [
      "mkdir: demo: File exists\n"
     ]
    }
   ],
   "source": [
    "!mkdir demo"
   ]
  },
  {
   "cell_type": "code",
   "execution_count": 170,
   "metadata": {},
   "outputs": [
    {
     "name": "stdout",
     "output_type": "stream",
     "text": [
      "Overwriting demo/mapper.py\n"
     ]
    }
   ],
   "source": [
    "%%writefile demo/mapper.py\n",
    "#!/usr/bin/env python\n",
    "\"\"\"\n",
    "This mapper reads from STDIN and waits 0.001 seconds per line.\n",
    "Its only purpose is to demonstrate one of the scalability ideas.\n",
    "\"\"\"\n",
    "import sys\n",
    "import time\n",
    "for line in sys.stdin:\n",
    "    time.sleep(0.001)"
   ]
  },
  {
   "cell_type": "code",
   "execution_count": 171,
   "metadata": {},
   "outputs": [],
   "source": [
    "# Make sure the mapper is executable\n",
    "!chmod a+x demo/mapper.py"
   ]
  },
  {
   "cell_type": "markdown",
   "metadata": {},
   "source": [
    "__Run the next three cells to apply our demo mapper with 1, 2 and 4 partitions.__"
   ]
  },
  {
   "cell_type": "code",
   "execution_count": 172,
   "metadata": {},
   "outputs": [
    {
     "name": "stdout",
     "output_type": "stream",
     "text": [
      "4.83 s ± 35.1 ms per loop (mean ± std. dev. of 7 runs, 1 loop each)\n"
     ]
    }
   ],
   "source": [
    "%%timeit\n",
    "!./pWordCount_v2.sh 1 'data/alice.txt' 'demo/mapper.py'"
   ]
  },
  {
   "cell_type": "code",
   "execution_count": 173,
   "metadata": {},
   "outputs": [
    {
     "name": "stdout",
     "output_type": "stream",
     "text": [
      "2.53 s ± 11.6 ms per loop (mean ± std. dev. of 7 runs, 1 loop each)\n"
     ]
    }
   ],
   "source": [
    "%%timeit\n",
    "!./pWordCount_v2.sh 2 'data/alice.txt' 'demo/mapper.py'"
   ]
  },
  {
   "cell_type": "code",
   "execution_count": 174,
   "metadata": {},
   "outputs": [
    {
     "name": "stdout",
     "output_type": "stream",
     "text": [
      "1.39 s ± 19.8 ms per loop (mean ± std. dev. of 7 runs, 1 loop each)\n"
     ]
    }
   ],
   "source": [
    "%%timeit\n",
    "!./pWordCount_v2.sh 4 'data/alice.txt' 'demo/mapper.py'"
   ]
  },
  {
   "cell_type": "markdown",
   "metadata": {},
   "source": [
    "__Run the following cells to repeat this process with your word count algorithm.__"
   ]
  },
  {
   "cell_type": "code",
   "execution_count": 175,
   "metadata": {},
   "outputs": [
    {
     "name": "stdout",
     "output_type": "stream",
     "text": [
      "277 ms ± 4.2 ms per loop (mean ± std. dev. of 7 runs, 1 loop each)\n"
     ]
    }
   ],
   "source": [
    "%%timeit\n",
    "!./pWordCount_v2.sh 1 'data/alice.txt' 'wordCount.py' 'aggregateCounts_v2.py' > 'data/tmp'"
   ]
  },
  {
   "cell_type": "code",
   "execution_count": 176,
   "metadata": {},
   "outputs": [
    {
     "name": "stdout",
     "output_type": "stream",
     "text": [
      "290 ms ± 22.3 ms per loop (mean ± std. dev. of 7 runs, 1 loop each)\n"
     ]
    }
   ],
   "source": [
    "%%timeit\n",
    "!./pWordCount_v2.sh 2 'data/alice.txt' 'wordCount.py' 'aggregateCounts_v2.py' > 'data/tmp'"
   ]
  },
  {
   "cell_type": "code",
   "execution_count": 177,
   "metadata": {},
   "outputs": [
    {
     "name": "stdout",
     "output_type": "stream",
     "text": [
      "310 ms ± 15.5 ms per loop (mean ± std. dev. of 7 runs, 1 loop each)\n"
     ]
    }
   ],
   "source": [
    "%%timeit\n",
    "!./pWordCount_v2.sh 4 'data/alice.txt' 'wordCount.py' 'aggregateCounts_v2.py' > 'data/tmp'"
   ]
  },
  {
   "cell_type": "code",
   "execution_count": 178,
   "metadata": {},
   "outputs": [
    {
     "name": "stdout",
     "output_type": "stream",
     "text": [
      "385 ms ± 11.6 ms per loop (mean ± std. dev. of 7 runs, 1 loop each)\n"
     ]
    }
   ],
   "source": [
    "%%timeit\n",
    "!./pWordCount_v2.sh 8 'data/alice.txt' 'wordCount.py' 'aggregateCounts_v2.py' > 'data/tmp'"
   ]
  },
  {
   "cell_type": "code",
   "execution_count": 179,
   "metadata": {},
   "outputs": [
    {
     "name": "stdout",
     "output_type": "stream",
     "text": [
      "495 ms ± 47.1 ms per loop (mean ± std. dev. of 7 runs, 1 loop each)\n"
     ]
    }
   ],
   "source": [
    "%%timeit\n",
    "!./pWordCount_v2.sh 16 'data/alice.txt' 'wordCount.py' 'aggregateCounts_v2.py' > 'data/tmp'"
   ]
  },
  {
   "cell_type": "code",
   "execution_count": 180,
   "metadata": {},
   "outputs": [
    {
     "name": "stdout",
     "output_type": "stream",
     "text": [
      "730 ms ± 63.8 ms per loop (mean ± std. dev. of 7 runs, 1 loop each)\n"
     ]
    }
   ],
   "source": [
    "%%timeit\n",
    "!./pWordCount_v2.sh 32 'data/alice.txt' 'wordCount.py' 'aggregateCounts_v2.py' > 'data/tmp'"
   ]
  },
  {
   "cell_type": "markdown",
   "metadata": {},
   "source": [
    "# Question 9: Embarrassingly Parallel\n",
    "`\"If any one of them can explain it,\" said Alice, (she had grown so large in the last few minutes that she wasn’t a bit afraid of interrupting him,) \"I’ll give him sixpence. I don’t believe there’s an atom of meaning in it.\"`\n",
    "<div style=\"text-align: right\">  -- Lewis Carroll, _Alice's Adventures in Wonderland_, Chapter 12  </div>\n",
    "\n",
    "### Q9 Tasks:\n",
    "\n",
    "* __a) short response:__ Describe what we mean by 'Embarrassingly Parallel' in terms of word counting. Does this term describe a 'task'? an 'implementation of a task'? \n",
    "\n",
    "* __b) OPTIONAL__: Define this concept in terms of 'associative' and 'commutative' operations. [`HINT:` _Refer to Chapter 2 in DITP_ ]"
   ]
  },
  {
   "cell_type": "markdown",
   "metadata": {},
   "source": [
    "### Q9 Student Answers:\n",
    "\n",
    "> __a)__ With regards to word counting, the problem can be categorized as embarrassingly parallel because very little effort is needed to seperate it into a number of parallel task, due to the fact that there is no shared state. The mapper task doesn't need to know how many words are being counted in the other map task and the single reducer task has all the context it needs to aggregate for any number of mapper tasks. The stages of the wordc count pipeline can be easily distributed to an arbitrary number of machines. \n",
    "\n",
    "\n",
    "\n",
    "> __b)__ Type your (OPTIONAL) answer here!"
   ]
  },
  {
   "cell_type": "markdown",
   "metadata": {},
   "source": [
    "### Congratulations, you have completed HW1! Please refer to the readme for submission instructions.\n",
    "\n",
    "If you would like to provide feedback regarding this homework, please use the survey at: https://docs.google.com/forms/d/e/1FAIpQLSce9feiQeSkdP43A0ZYui1tMGIBfLfzb0rmgToQeZD9bXXX8Q/viewform"
   ]
  },
  {
   "cell_type": "code",
   "execution_count": null,
   "metadata": {},
   "outputs": [],
   "source": []
  }
 ],
 "metadata": {
  "anaconda-cloud": {},
  "kernelspec": {
   "display_name": "Python 3",
   "language": "python",
   "name": "python3"
  },
  "language_info": {
   "codemirror_mode": {
    "name": "ipython",
    "version": 3
   },
   "file_extension": ".py",
   "mimetype": "text/x-python",
   "name": "python",
   "nbconvert_exporter": "python",
   "pygments_lexer": "ipython3",
   "version": "3.8.5"
  },
  "toc": {
   "colors": {
    "hover_highlight": "#DAA520",
    "navigate_num": "#000000",
    "navigate_text": "#333333",
    "running_highlight": "#FF0000",
    "selected_highlight": "#FFD700",
    "sidebar_border": "#EEEEEE",
    "wrapper_background": "#FFFFFF"
   },
   "moveMenuLeft": true,
   "nav_menu": {
    "height": "297px",
    "width": "252px"
   },
   "navigate_menu": true,
   "number_sections": false,
   "sideBar": true,
   "threshold": 4,
   "toc_cell": false,
   "toc_position": {
    "height": "951px",
    "left": "0px",
    "right": "1561px",
    "top": "106px",
    "width": "600px"
   },
   "toc_section_display": "block",
   "toc_window_display": true,
   "widenNotebook": false
  }
 },
 "nbformat": 4,
 "nbformat_minor": 4
}
